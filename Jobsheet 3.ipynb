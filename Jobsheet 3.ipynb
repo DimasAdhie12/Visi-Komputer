{
  "nbformat": 4,
  "nbformat_minor": 0,
  "metadata": {
    "colab": {
      "provenance": [],
      "authorship_tag": "ABX9TyPYgd7qzbY7mfZUG7840zfX",
      "include_colab_link": true
    },
    "kernelspec": {
      "name": "python3",
      "display_name": "Python 3"
    },
    "language_info": {
      "name": "python"
    }
  },
  "cells": [
    {
      "cell_type": "markdown",
      "metadata": {
        "id": "view-in-github",
        "colab_type": "text"
      },
      "source": [
        "<a href=\"https://colab.research.google.com/github/DimasAdhie12/Visi-Komputer/blob/main/Jobsheet%203.ipynb\" target=\"_parent\"><img src=\"https://colab.research.google.com/assets/colab-badge.svg\" alt=\"Open In Colab\"/></a>"
      ]
    },
    {
      "cell_type": "markdown",
      "source": [
        "###Praktikum D1"
      ],
      "metadata": {
        "id": "WwWkaJ0fcPkh"
      }
    },
    {
      "cell_type": "code",
      "execution_count": null,
      "metadata": {
        "id": "pAxfYUHfcK5P"
      },
      "outputs": [],
      "source": []
    },
    {
      "cell_type": "markdown",
      "source": [
        "###Praktikum D2"
      ],
      "metadata": {
        "id": "ukROXDjqcTX1"
      }
    },
    {
      "cell_type": "code",
      "source": [],
      "metadata": {
        "id": "IrQrdqfxcWwB"
      },
      "execution_count": null,
      "outputs": []
    },
    {
      "cell_type": "markdown",
      "source": [
        "###Praktikum D3"
      ],
      "metadata": {
        "id": "UxCr1P28cXKg"
      }
    },
    {
      "cell_type": "code",
      "source": [],
      "metadata": {
        "id": "e9_uB421caYH"
      },
      "execution_count": null,
      "outputs": []
    }
  ]
}