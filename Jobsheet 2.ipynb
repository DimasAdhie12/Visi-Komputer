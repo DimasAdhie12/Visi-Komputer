{
  "nbformat": 4,
  "nbformat_minor": 0,
  "metadata": {
    "colab": {
      "provenance": [],
      "authorship_tag": "ABX9TyMZtawjLmyit0VwurwtxUXH",
      "include_colab_link": true
    },
    "kernelspec": {
      "name": "python3",
      "display_name": "Python 3"
    },
    "language_info": {
      "name": "python"
    }
  },
  "cells": [
    {
      "cell_type": "markdown",
      "metadata": {
        "id": "view-in-github",
        "colab_type": "text"
      },
      "source": [
        "<a href=\"https://colab.research.google.com/github/DimasAdhie12/Visi-Komputer/blob/main/Jobsheet%202.ipynb\" target=\"_parent\"><img src=\"https://colab.research.google.com/assets/colab-badge.svg\" alt=\"Open In Colab\"/></a>"
      ]
    },
    {
      "cell_type": "markdown",
      "source": [
        "###Praktikum D1 – Memulai Klasifikasi Gambar dengan Dataset Sederhana"
      ],
      "metadata": {
        "id": "vNvqwGr7qCW9"
      }
    },
    {
      "cell_type": "code",
      "execution_count": null,
      "metadata": {
        "id": "FMQBY5FWn9jk"
      },
      "outputs": [],
      "source": [
        "import numpy as np\n",
        "import matplotlib.pyplot as plt\n",
        "from tensorflow.keras.datasets import mnist\n",
        "# Load data\n",
        "(x_train, y_train), (x_test, y_test) = mnist.load_data()\n",
        "# Tampilkan contoh\n",
        "plt.figure(figsize=(5,5))\n",
        "for i in range(9):\n",
        " plt.subplot(3,3,i+1)\n",
        " plt.imshow(x_train[i], cmap='gray')\n",
        " plt.title(f\"Label: {y_train[i]}\")\n",
        " plt.axis('off')\n",
        "plt.show()"
      ]
    },
    {
      "cell_type": "markdown",
      "source": [
        "###Praktikum D2 – Klasifikasi Gambar dengan Model Machine Learning Tradisional"
      ],
      "metadata": {
        "id": "0LJmb9NPqqZx"
      }
    },
    {
      "cell_type": "code",
      "source": [
        "from sklearn import svm\n",
        "from sklearn.metrics import accuracy_score\n",
        "# Flatten\n",
        "x_train_flat = x_train.reshape(len(x_train), -1) / 255.0\n",
        "x_test_flat = x_test.reshape(len(x_test), -1) / 255.0\n",
        "# SVM\n",
        "clf = svm.SVC(kernel='linear', gamma='scale')\n",
        "clf.fit(x_train_flat[:5000], y_train[:5000]) # gunakan subset karena SVM  berat\n",
        "y_pred = clf.predict(x_test_flat)\n",
        "print(\"Akurasi:\", accuracy_score(y_test, y_pred))"
      ],
      "metadata": {
        "id": "GaaGObTpqvTA"
      },
      "execution_count": null,
      "outputs": []
    },
    {
      "cell_type": "markdown",
      "source": [
        "###Praktikum D3 – Membangun CNN Sederhana"
      ],
      "metadata": {
        "id": "ZRLScqpzrU_5"
      }
    },
    {
      "cell_type": "code",
      "source": [
        "import tensorflow as tf\n",
        "from tensorflow.keras import layers, models\n",
        "x_train_cnn = x_train.reshape(-1,28,28,1) / 255.0\n",
        "x_test_cnn = x_test.reshape(-1,28,28,1) / 255.0\n",
        "model = models.Sequential([\n",
        "layers.Conv2D(32, (3,3), activation='relu', input_shape=(28,28,1)),\n",
        "layers.MaxPooling2D((2,2)),\n",
        "layers.Flatten(),\n",
        "layers.Dense(64, activation='relu'),\n",
        "layers.Dense(10, activation='softmax')\n",
        "])\n",
        "\n",
        "model.compile(optimizer='adam',\n",
        "loss='sparse_categorical_crossentropy',\n",
        "metrics=['accuracy'])\n",
        "history = model.fit(x_train_cnn, y_train, epochs=5, validation_split=0.1)\n",
        "# ===== Plot history =====\n",
        "import matplotlib.pyplot as plt\n",
        "plt.figure(figsize=(10,4))\n",
        "plt.subplot(1,2,1)\n",
        "plt.plot(history.history['accuracy'], label='Training Accuracy')\n",
        "plt.plot(history.history['val_accuracy'], label='Validation Accuracy')\n",
        "plt.title('CNN Accuracy')\n",
        "plt.xlabel('Epoch')\n",
        "plt.ylabel('Accuracy')\n",
        "plt.legend()\n",
        "plt.subplot(1,2,2)\n",
        "plt.plot(history.history['loss'], label='Training Loss')\n",
        "plt.plot(history.history['val_loss'], label='Validation Loss')\n",
        "plt.title('CNN Loss')\n",
        "plt.xlabel('Epoch')\n",
        "plt.ylabel('Loss')\n",
        "plt.legend()\n",
        "plt.show()"
      ],
      "metadata": {
        "id": "LLZ-aSKwrYDS"
      },
      "execution_count": null,
      "outputs": []
    }
  ]
}